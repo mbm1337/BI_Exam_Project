{
 "cells": [
  {
   "cell_type": "code",
   "id": "initial_id",
   "metadata": {
    "collapsed": true,
    "ExecuteTime": {
     "end_time": "2024-10-09T10:07:41.706667Z",
     "start_time": "2024-10-09T10:07:41.338272Z"
    }
   },
   "source": [
    "import pandas as pd\n",
    "import numpy as np\n",
    "import seaborn as sns\n",
    "from sklearn.model_selection import train_test_split\n",
    "from sklearn.ensemble import RandomForestClassifier\n",
    "from sklearn.metrics import accuracy_score,classification_report\n",
    "from sklearn.preprocessing import LabelEncoder\n",
    "from sklearn.tree import DecisionTreeClassifier\n",
    "\n",
    "\n",
    "import matplotlib.pyplot as plt\n",
    "\n"
   ],
   "outputs": [],
   "execution_count": 1
  },
  {
   "metadata": {
    "ExecuteTime": {
     "end_time": "2024-10-09T10:07:41.729727Z",
     "start_time": "2024-10-09T10:07:41.719253Z"
    }
   },
   "cell_type": "code",
   "source": [
    "\n",
    "df = pd.read_csv('data/ai_job_market_insights.csv')"
   ],
   "id": "116714f23397b79d",
   "outputs": [],
   "execution_count": 2
  },
  {
   "metadata": {
    "ExecuteTime": {
     "end_time": "2024-10-09T10:07:41.926525Z",
     "start_time": "2024-10-09T10:07:41.916857Z"
    }
   },
   "cell_type": "code",
   "source": "df.info()",
   "id": "e9c223f499d32ee1",
   "outputs": [
    {
     "name": "stdout",
     "output_type": "stream",
     "text": [
      "<class 'pandas.core.frame.DataFrame'>\n",
      "RangeIndex: 500 entries, 0 to 499\n",
      "Data columns (total 10 columns):\n",
      " #   Column                 Non-Null Count  Dtype  \n",
      "---  ------                 --------------  -----  \n",
      " 0   Job_Title              500 non-null    object \n",
      " 1   Industry               500 non-null    object \n",
      " 2   Company_Size           500 non-null    object \n",
      " 3   Location               500 non-null    object \n",
      " 4   AI_Adoption_Level      500 non-null    object \n",
      " 5   Automation_Risk        500 non-null    object \n",
      " 6   Required_Skills        500 non-null    object \n",
      " 7   Salary_USD             500 non-null    float64\n",
      " 8   Remote_Friendly        500 non-null    object \n",
      " 9   Job_Growth_Projection  500 non-null    object \n",
      "dtypes: float64(1), object(9)\n",
      "memory usage: 39.2+ KB\n"
     ]
    }
   ],
   "execution_count": 3
  },
  {
   "metadata": {
    "ExecuteTime": {
     "end_time": "2024-10-09T10:07:41.996725Z",
     "start_time": "2024-10-09T10:07:41.977780Z"
    }
   },
   "cell_type": "code",
   "source": "df.tail(10)",
   "id": "d22b9d609f524d6",
   "outputs": [
    {
     "data": {
      "text/plain": [
       "                 Job_Title            Industry Company_Size       Location  \\\n",
       "490         Data Scientist              Energy        Large         Sydney   \n",
       "491  Cybersecurity Analyst           Education       Medium         London   \n",
       "492          AI Researcher           Education        Large  San Francisco   \n",
       "493  Cybersecurity Analyst              Energy       Medium         Berlin   \n",
       "494          Sales Manager      Transportation       Medium          Tokyo   \n",
       "495         Data Scientist  Telecommunications       Medium         Berlin   \n",
       "496  Cybersecurity Analyst  Telecommunications        Small         London   \n",
       "497  Cybersecurity Analyst              Energy        Large          Dubai   \n",
       "498     Operations Manager          Healthcare        Large          Paris   \n",
       "499             HR Manager       Entertainment       Medium         Berlin   \n",
       "\n",
       "    AI_Adoption_Level Automation_Risk     Required_Skills     Salary_USD  \\\n",
       "490            Medium             Low       Cybersecurity   95170.438294   \n",
       "491               Low            High       Data Analysis   90764.668704   \n",
       "492               Low          Medium       Cybersecurity  119961.891251   \n",
       "493            Medium            High        UX/UI Design   79936.875359   \n",
       "494            Medium            High               Sales   97622.960933   \n",
       "495               Low          Medium    Machine Learning  105821.394046   \n",
       "496               Low            High        UX/UI Design  119794.992146   \n",
       "497              High             Low        UX/UI Design   79644.933099   \n",
       "498              High             Low              Python   77642.150625   \n",
       "499            Medium            High  Project Management   68764.378921   \n",
       "\n",
       "    Remote_Friendly Job_Growth_Projection  \n",
       "490             Yes               Decline  \n",
       "491              No               Decline  \n",
       "492              No                Growth  \n",
       "493              No               Decline  \n",
       "494             Yes                Growth  \n",
       "495             Yes                Stable  \n",
       "496              No               Decline  \n",
       "497             Yes                Stable  \n",
       "498             Yes                Stable  \n",
       "499             Yes               Decline  "
      ],
      "text/html": [
       "<div>\n",
       "<style scoped>\n",
       "    .dataframe tbody tr th:only-of-type {\n",
       "        vertical-align: middle;\n",
       "    }\n",
       "\n",
       "    .dataframe tbody tr th {\n",
       "        vertical-align: top;\n",
       "    }\n",
       "\n",
       "    .dataframe thead th {\n",
       "        text-align: right;\n",
       "    }\n",
       "</style>\n",
       "<table border=\"1\" class=\"dataframe\">\n",
       "  <thead>\n",
       "    <tr style=\"text-align: right;\">\n",
       "      <th></th>\n",
       "      <th>Job_Title</th>\n",
       "      <th>Industry</th>\n",
       "      <th>Company_Size</th>\n",
       "      <th>Location</th>\n",
       "      <th>AI_Adoption_Level</th>\n",
       "      <th>Automation_Risk</th>\n",
       "      <th>Required_Skills</th>\n",
       "      <th>Salary_USD</th>\n",
       "      <th>Remote_Friendly</th>\n",
       "      <th>Job_Growth_Projection</th>\n",
       "    </tr>\n",
       "  </thead>\n",
       "  <tbody>\n",
       "    <tr>\n",
       "      <th>490</th>\n",
       "      <td>Data Scientist</td>\n",
       "      <td>Energy</td>\n",
       "      <td>Large</td>\n",
       "      <td>Sydney</td>\n",
       "      <td>Medium</td>\n",
       "      <td>Low</td>\n",
       "      <td>Cybersecurity</td>\n",
       "      <td>95170.438294</td>\n",
       "      <td>Yes</td>\n",
       "      <td>Decline</td>\n",
       "    </tr>\n",
       "    <tr>\n",
       "      <th>491</th>\n",
       "      <td>Cybersecurity Analyst</td>\n",
       "      <td>Education</td>\n",
       "      <td>Medium</td>\n",
       "      <td>London</td>\n",
       "      <td>Low</td>\n",
       "      <td>High</td>\n",
       "      <td>Data Analysis</td>\n",
       "      <td>90764.668704</td>\n",
       "      <td>No</td>\n",
       "      <td>Decline</td>\n",
       "    </tr>\n",
       "    <tr>\n",
       "      <th>492</th>\n",
       "      <td>AI Researcher</td>\n",
       "      <td>Education</td>\n",
       "      <td>Large</td>\n",
       "      <td>San Francisco</td>\n",
       "      <td>Low</td>\n",
       "      <td>Medium</td>\n",
       "      <td>Cybersecurity</td>\n",
       "      <td>119961.891251</td>\n",
       "      <td>No</td>\n",
       "      <td>Growth</td>\n",
       "    </tr>\n",
       "    <tr>\n",
       "      <th>493</th>\n",
       "      <td>Cybersecurity Analyst</td>\n",
       "      <td>Energy</td>\n",
       "      <td>Medium</td>\n",
       "      <td>Berlin</td>\n",
       "      <td>Medium</td>\n",
       "      <td>High</td>\n",
       "      <td>UX/UI Design</td>\n",
       "      <td>79936.875359</td>\n",
       "      <td>No</td>\n",
       "      <td>Decline</td>\n",
       "    </tr>\n",
       "    <tr>\n",
       "      <th>494</th>\n",
       "      <td>Sales Manager</td>\n",
       "      <td>Transportation</td>\n",
       "      <td>Medium</td>\n",
       "      <td>Tokyo</td>\n",
       "      <td>Medium</td>\n",
       "      <td>High</td>\n",
       "      <td>Sales</td>\n",
       "      <td>97622.960933</td>\n",
       "      <td>Yes</td>\n",
       "      <td>Growth</td>\n",
       "    </tr>\n",
       "    <tr>\n",
       "      <th>495</th>\n",
       "      <td>Data Scientist</td>\n",
       "      <td>Telecommunications</td>\n",
       "      <td>Medium</td>\n",
       "      <td>Berlin</td>\n",
       "      <td>Low</td>\n",
       "      <td>Medium</td>\n",
       "      <td>Machine Learning</td>\n",
       "      <td>105821.394046</td>\n",
       "      <td>Yes</td>\n",
       "      <td>Stable</td>\n",
       "    </tr>\n",
       "    <tr>\n",
       "      <th>496</th>\n",
       "      <td>Cybersecurity Analyst</td>\n",
       "      <td>Telecommunications</td>\n",
       "      <td>Small</td>\n",
       "      <td>London</td>\n",
       "      <td>Low</td>\n",
       "      <td>High</td>\n",
       "      <td>UX/UI Design</td>\n",
       "      <td>119794.992146</td>\n",
       "      <td>No</td>\n",
       "      <td>Decline</td>\n",
       "    </tr>\n",
       "    <tr>\n",
       "      <th>497</th>\n",
       "      <td>Cybersecurity Analyst</td>\n",
       "      <td>Energy</td>\n",
       "      <td>Large</td>\n",
       "      <td>Dubai</td>\n",
       "      <td>High</td>\n",
       "      <td>Low</td>\n",
       "      <td>UX/UI Design</td>\n",
       "      <td>79644.933099</td>\n",
       "      <td>Yes</td>\n",
       "      <td>Stable</td>\n",
       "    </tr>\n",
       "    <tr>\n",
       "      <th>498</th>\n",
       "      <td>Operations Manager</td>\n",
       "      <td>Healthcare</td>\n",
       "      <td>Large</td>\n",
       "      <td>Paris</td>\n",
       "      <td>High</td>\n",
       "      <td>Low</td>\n",
       "      <td>Python</td>\n",
       "      <td>77642.150625</td>\n",
       "      <td>Yes</td>\n",
       "      <td>Stable</td>\n",
       "    </tr>\n",
       "    <tr>\n",
       "      <th>499</th>\n",
       "      <td>HR Manager</td>\n",
       "      <td>Entertainment</td>\n",
       "      <td>Medium</td>\n",
       "      <td>Berlin</td>\n",
       "      <td>Medium</td>\n",
       "      <td>High</td>\n",
       "      <td>Project Management</td>\n",
       "      <td>68764.378921</td>\n",
       "      <td>Yes</td>\n",
       "      <td>Decline</td>\n",
       "    </tr>\n",
       "  </tbody>\n",
       "</table>\n",
       "</div>"
      ]
     },
     "execution_count": 4,
     "metadata": {},
     "output_type": "execute_result"
    }
   ],
   "execution_count": 4
  },
  {
   "metadata": {
    "ExecuteTime": {
     "end_time": "2024-10-09T10:07:42.062701Z",
     "start_time": "2024-10-09T10:07:42.054210Z"
    }
   },
   "cell_type": "code",
   "source": "print( df.head())",
   "id": "861e181fb2ba68b6",
   "outputs": [
    {
     "name": "stdout",
     "output_type": "stream",
     "text": [
      "               Job_Title       Industry Company_Size   Location  \\\n",
      "0  Cybersecurity Analyst  Entertainment        Small      Dubai   \n",
      "1   Marketing Specialist     Technology        Large  Singapore   \n",
      "2          AI Researcher     Technology        Large  Singapore   \n",
      "3          Sales Manager         Retail        Small     Berlin   \n",
      "4  Cybersecurity Analyst  Entertainment        Small      Tokyo   \n",
      "\n",
      "  AI_Adoption_Level Automation_Risk     Required_Skills     Salary_USD  \\\n",
      "0            Medium            High        UX/UI Design  111392.165243   \n",
      "1            Medium            High           Marketing   93792.562466   \n",
      "2            Medium            High        UX/UI Design  107170.263069   \n",
      "3               Low            High  Project Management   93027.953758   \n",
      "4               Low             Low          JavaScript   87752.922171   \n",
      "\n",
      "  Remote_Friendly Job_Growth_Projection  \n",
      "0             Yes                Growth  \n",
      "1              No               Decline  \n",
      "2             Yes                Growth  \n",
      "3              No                Growth  \n",
      "4             Yes               Decline  \n"
     ]
    }
   ],
   "execution_count": 5
  },
  {
   "metadata": {
    "ExecuteTime": {
     "end_time": "2024-10-09T10:07:42.169091Z",
     "start_time": "2024-10-09T10:07:42.164765Z"
    }
   },
   "cell_type": "code",
   "source": "",
   "id": "765e40ce505871aa",
   "outputs": [],
   "execution_count": null
  },
  {
   "metadata": {
    "ExecuteTime": {
     "end_time": "2024-10-09T10:07:42.312320Z",
     "start_time": "2024-10-09T10:07:42.305477Z"
    }
   },
   "cell_type": "code",
   "source": [
    "# Check for missing data\n",
    "for col in df.columns:\n",
    "    pct_missing = np.mean(df[col].isnull())\n",
    "    print('{} - {}%'.format(col, round(pct_missing * 100)))"
   ],
   "id": "a265835d792fec4c",
   "outputs": [
    {
     "name": "stdout",
     "output_type": "stream",
     "text": [
      "Job_Title - 0%\n",
      "Industry - 0%\n",
      "Company_Size - 0%\n",
      "Location - 0%\n",
      "AI_Adoption_Level - 0%\n",
      "Automation_Risk - 0%\n",
      "Required_Skills - 0%\n",
      "Salary_USD - 0%\n",
      "Remote_Friendly - 0%\n",
      "Job_Growth_Projection - 0%\n"
     ]
    }
   ],
   "execution_count": 6
  },
  {
   "metadata": {
    "ExecuteTime": {
     "end_time": "2024-10-09T10:07:42.442763Z",
     "start_time": "2024-10-09T10:07:42.437892Z"
    }
   },
   "cell_type": "code",
   "source": [
    "# Store column names\n",
    "column_names = df.columns.tolist()\n",
    "print(\"Column names:\", column_names)"
   ],
   "id": "30941dca31df4f88",
   "outputs": [
    {
     "name": "stdout",
     "output_type": "stream",
     "text": [
      "Column names: ['Job_Title', 'Industry', 'Company_Size', 'Location', 'AI_Adoption_Level', 'Automation_Risk', 'Required_Skills', 'Salary_USD', 'Remote_Friendly', 'Job_Growth_Projection']\n"
     ]
    }
   ],
   "execution_count": 7
  },
  {
   "metadata": {
    "ExecuteTime": {
     "end_time": "2024-10-09T10:07:42.508571Z",
     "start_time": "2024-10-09T10:07:42.505637Z"
    }
   },
   "cell_type": "code",
   "source": "",
   "id": "e604d804133aa8de",
   "outputs": [],
   "execution_count": null
  },
  {
   "metadata": {
    "ExecuteTime": {
     "end_time": "2024-10-09T10:07:42.563928Z",
     "start_time": "2024-10-09T10:07:42.553371Z"
    }
   },
   "cell_type": "code",
   "source": [
    "# Calculate descriptive statistics\n",
    "descriptive_stats = df.describe()\n",
    "print(descriptive_stats)"
   ],
   "id": "349d6e5c31240f2f",
   "outputs": [
    {
     "name": "stdout",
     "output_type": "stream",
     "text": [
      "          Salary_USD\n",
      "count     500.000000\n",
      "mean    91222.390974\n",
      "std     20504.291453\n",
      "min     31969.526346\n",
      "25%     78511.514863\n",
      "50%     91998.195286\n",
      "75%    103971.282092\n",
      "max    155209.821614\n"
     ]
    }
   ],
   "execution_count": 8
  },
  {
   "metadata": {
    "ExecuteTime": {
     "end_time": "2024-10-09T10:07:42.886802Z",
     "start_time": "2024-10-09T10:07:42.629604Z"
    }
   },
   "cell_type": "code",
   "source": [
    "# Visualize the distribution of a numerical column (e.g., 'Salary')\n",
    "plt.figure(figsize=(10, 6))\n",
    "sns.histplot(df['Salary_USD'], kde=True, bins=30)\n",
    "plt.title('Distribution of Salary')\n",
    "plt.xlabel('Salary')\n",
    "plt.ylabel('Frequency')\n",
    "plt.show()"
   ],
   "id": "3b51ad41401470b3",
   "outputs": [
    {
     "data": {
      "text/plain": [
       "<Figure size 1000x600 with 1 Axes>"
      ],
      "image/png": "[encoded data removed]"
     },
     "metadata": {},
     "output_type": "display_data"
    }
   ],
   "execution_count": 9
  },
  {
   "metadata": {
    "ExecuteTime": {
     "end_time": "2024-10-09T10:07:43.196572Z",
     "start_time": "2024-10-09T10:07:42.909705Z"
    }
   },
   "cell_type": "code",
   "source": [
    "# Visualize the count of categorical column (e.g., 'Job_Title')\n",
    "plt.figure(figsize=(12, 8))\n",
    "sns.countplot(y='Job_Title', data=df, order=df['Job_Title'].value_counts().index)\n",
    "plt.title('Count of Job Titles')\n",
    "plt.xlabel('Count')\n",
    "plt.ylabel('Job Title')\n",
    "plt.show()"
   ],
   "id": "c02917ec07330456",
   "outputs": [
    {
     "data": {
      "text/plain": [
       "<Figure size 1200x800 with 1 Axes>"
      ],
      "image/png": "[encoded data removed]"
     },
     "metadata": {},
     "output_type": "display_data"
    }
   ],
   "execution_count": 10
  },
  {
   "metadata": {
    "ExecuteTime": {
     "end_time": "2024-10-09T10:07:43.229336Z",
     "start_time": "2024-10-09T10:07:43.223304Z"
    }
   },
   "cell_type": "code",
   "source": [
    "# Convert only numerical columns to numeric (use 'coerce' only for specific columns if needed)\n",
    "numeric_columns = ['Salary_USD']  # Adjust with your numerical columns\n",
    "df[numeric_columns] = df[numeric_columns].apply(pd.to_numeric, errors='coerce')\n"
   ],
   "id": "90885bce5637aa6c",
   "outputs": [],
   "execution_count": 11
  },
  {
   "metadata": {
    "ExecuteTime": {
     "end_time": "2024-10-09T10:07:43.270837Z",
     "start_time": "2024-10-09T10:07:43.256811Z"
    }
   },
   "cell_type": "code",
   "source": [
    "# Handle outliers using the IQR method with a more lenient threshold\n",
    "Q1 = df[numeric_columns].quantile(0.25)\n",
    "Q3 = df[numeric_columns].quantile(0.75)\n",
    "IQR = Q3 - Q1\n",
    "df = df[~((df[numeric_columns] < (Q1 - 1.5 * IQR)) | (df[numeric_columns] > (Q3 + 1.5 * IQR))).any(axis=1)]\n",
    "\n",
    "print(\"Data shape after handling outliers:\", df.shape)"
   ],
   "id": "b8677e3a6fc81d4b",
   "outputs": [
    {
     "name": "stdout",
     "output_type": "stream",
     "text": [
      "Data shape after handling outliers: (495, 10)\n"
     ]
    }
   ],
   "execution_count": 12
  },
  {
   "metadata": {
    "ExecuteTime": {
     "end_time": "2024-10-09T10:07:43.391076Z",
     "start_time": "2024-10-09T10:07:43.379400Z"
    }
   },
   "cell_type": "code",
   "source": [
    "# Encode categorical columns\n",
    "le = LabelEncoder()\n",
    "categorical_columns = ['Job_Title', 'Industry', 'Company_Size', 'Location', 'AI_Adoption_Level', 'Required_Skills', 'Remote_Friendly','Job_Growth_Projection']\n",
    "\n",
    "for col in categorical_columns:\n",
    "    df[col] = le.fit_transform(df[col].astype(str))  # Convert categories to numbers\n"
   ],
   "id": "229039195085c22b",
   "outputs": [],
   "execution_count": 13
  },
  {
   "metadata": {
    "ExecuteTime": {
     "end_time": "2024-10-09T10:07:43.418846Z",
     "start_time": "2024-10-09T10:07:43.408248Z"
    }
   },
   "cell_type": "code",
   "source": [
    "print(df.info())  # Check the data types and if there are any remaining NaNs\n",
    "print(df['Automation_Risk'].isna().sum())  # This should return 0\n"
   ],
   "id": "85c569d64971315",
   "outputs": [
    {
     "name": "stdout",
     "output_type": "stream",
     "text": [
      "<class 'pandas.core.frame.DataFrame'>\n",
      "Index: 495 entries, 0 to 499\n",
      "Data columns (total 10 columns):\n",
      " #   Column                 Non-Null Count  Dtype  \n",
      "---  ------                 --------------  -----  \n",
      " 0   Job_Title              495 non-null    int64  \n",
      " 1   Industry               495 non-null    int64  \n",
      " 2   Company_Size           495 non-null    int64  \n",
      " 3   Location               495 non-null    int64  \n",
      " 4   AI_Adoption_Level      495 non-null    int64  \n",
      " 5   Automation_Risk        495 non-null    object \n",
      " 6   Required_Skills        495 non-null    int64  \n",
      " 7   Salary_USD             495 non-null    float64\n",
      " 8   Remote_Friendly        495 non-null    int64  \n",
      " 9   Job_Growth_Projection  495 non-null    int64  \n",
      "dtypes: float64(1), int64(8), object(1)\n",
      "memory usage: 42.5+ KB\n",
      "None\n",
      "0\n"
     ]
    }
   ],
   "execution_count": 14
  },
  {
   "metadata": {
    "ExecuteTime": {
     "end_time": "2024-10-09T10:12:29.130434Z",
     "start_time": "2024-10-09T10:12:29.103196Z"
    }
   },
   "cell_type": "code",
   "source": [
    "from sklearn.naive_bayes import GaussianNB\n",
    "\n",
    "# Split data again after preprocessing\n",
    "X = df.drop('Automation_Risk', axis=1)  # X indeholder nu alle kolonner bortset fra 'Automation_Risk'\n",
    "y = df['Automation_Risk']  # y indeholder kun 'Automation_Risk', som er målvariablen\n",
    "\n",
    "# Håndter NaN-værdier i X (for at undgå NaN-problemer)\n",
    "X.fillna(X.mean(), inplace=True)  # Udfyld numeriske NaN-værdier med gennemsnittet\n",
    "\n",
    "# Train-test split\n",
    "X_train, X_test, y_train, y_test = train_test_split(X, y, test_size=0.2, random_state=42)\n",
    "\n",
    "# Train a Gaussian Naive Bayes model\n",
    "clf = DecisionTreeClassifier(random_state=7)\n",
    "clf.fit(X_train, y_train)\n",
    "\n",
    "# Make predictions\n",
    "y_pred = clf.predict(X_test)\n",
    "\n",
    "# Evaluate the model\n",
    "accuracy = accuracy_score(y_test, y_pred)\n",
    "print(f'Accuracy: {accuracy}')\n",
    "print('Classification Report:')\n",
    "print(classification_report(y_test, y_pred))\n"
   ],
   "id": "293c3f7b19895381",
   "outputs": [
    {
     "name": "stdout",
     "output_type": "stream",
     "text": [
      "Accuracy: 0.42424242424242425\n",
      "Classification Report:\n",
      "              precision    recall  f1-score   support\n",
      "\n",
      "        High       0.44      0.31      0.37        35\n",
      "         Low       0.27      0.38      0.32        24\n",
      "      Medium       0.54      0.55      0.54        40\n",
      "\n",
      "    accuracy                           0.42        99\n",
      "   macro avg       0.42      0.41      0.41        99\n",
      "weighted avg       0.44      0.42      0.43        99\n",
      "\n"
     ]
    }
   ],
   "execution_count": 34
  },
  {
   "metadata": {},
   "cell_type": "markdown",
   "source": "clasifation machine lerning",
   "id": "8233c3d876aa154e"
  },
  {
   "metadata": {
    "ExecuteTime": {
     "end_time": "2024-10-09T10:12:36.293117Z",
     "start_time": "2024-10-09T10:12:36.286200Z"
    }
   },
   "cell_type": "code",
   "source": [
    "# Function to predict Automation Risk for new inputs\n",
    "def predict_automation_risk(job_title, industry, company_size, location, ai_adoption, skills, salary, remote_friendly, growth_projection):\n",
    "    # Create a DataFrame with user inputs\n",
    "    input_data = pd.DataFrame({\n",
    "        'Job_Title': [job_title],\n",
    "        'Industry': [industry],\n",
    "        'Company_Size': [company_size],\n",
    "        'Location': [location],\n",
    "        'AI_Adoption_Level': [ai_adoption],\n",
    "        'Required_Skills': [skills],\n",
    "        'Salary_USD': [salary],\n",
    "        'Remote_Friendly': [remote_friendly],\n",
    "        'Job_Growth_Projection': [growth_projection]\n",
    "    })\n",
    "\n",
    "    # Encode categorical columns using the same label encoders\n",
    "    for col in categorical_columns:\n",
    "        input_data[col] = le.fit_transform(input_data[col].astype(str))\n",
    "\n",
    "    # Predict automation risk\n",
    "    prediction = clf.predict(input_data)\n",
    "    \n",
    "    return prediction[0]"
   ],
   "id": "ea27fe317d649895",
   "outputs": [],
   "execution_count": 35
  },
  {
   "metadata": {
    "ExecuteTime": {
     "end_time": "2024-10-09T10:07:43.647759Z",
     "start_time": "2024-10-09T10:07:43.643915Z"
    }
   },
   "cell_type": "code",
   "source": "",
   "id": "f40bee97a1a0dbb6",
   "outputs": [],
   "execution_count": null
  },
  {
   "metadata": {
    "ExecuteTime": {
     "end_time": "2024-10-09T10:15:58.028462Z",
     "start_time": "2024-10-09T10:15:58.014812Z"
    }
   },
   "cell_type": "code",
   "source": [
    "# Example of using the prediction function for a low-risk job\n",
    "job_title = 'Software Engineer'\n",
    "industry = 'Technology'\n",
    "company_size = 'Large'\n",
    "location = 'San Francisco'\n",
    "ai_adoption = 'High'\n",
    "skills = 'Programming, Problem Solving, Creativity'\n",
    "salary = 1200000  \n",
    "remote_friendly = 'Yes'\n",
    "growth_projection = 'High Growth'  \n",
    "\n",
    "# Forudsig automatiseringsrisikoen\n",
    "risk_prediction = predict_automation_risk(job_title, industry, company_size, location, ai_adoption, skills, salary, remote_friendly, growth_projection)\n",
    "print(f\"The predicted automation risk for the job is: {risk_prediction}\")\n"
   ],
   "id": "32f366e2fc9fd2df",
   "outputs": [
    {
     "name": "stdout",
     "output_type": "stream",
     "text": [
      "The predicted automation risk for the job is: Low\n"
     ]
    }
   ],
   "execution_count": 45
  },
  {
   "metadata": {
    "ExecuteTime": {
     "end_time": "2024-10-09T10:15:41.065245Z",
     "start_time": "2024-10-09T10:15:41.053997Z"
    }
   },
   "cell_type": "code",
   "source": [
    "# Example of using the prediction function for a medium-risk job\n",
    "job_title = 'Customer Support Specialist'\n",
    "industry = 'Healthcare'\n",
    "company_size = 'Medium'\n",
    "location = 'Remote'\n",
    "ai_adoption = 'Medium'\n",
    "skills = 'Customer Support, Communication'\n",
    "salary = 50000  # Mellem løn\n",
    "remote_friendly = 'Yes'\n",
    "growth_projection = 'Medium Growth' \n",
    "\n",
    "# Forudsig automatiseringsrisikoen\n",
    "risk_prediction = predict_automation_risk(job_title, industry, company_size, location, ai_adoption, skills, salary, remote_friendly, growth_projection)\n",
    "print(f\"The predicted automation risk for the job is: {risk_prediction}\")\n"
   ],
   "id": "b3a9e9ccaaefa937",
   "outputs": [
    {
     "name": "stdout",
     "output_type": "stream",
     "text": [
      "The predicted automation risk for the job is: Medium\n"
     ]
    }
   ],
   "execution_count": 42
  },
  {
   "metadata": {
    "ExecuteTime": {
     "end_time": "2024-10-09T10:15:44.165864Z",
     "start_time": "2024-10-09T10:15:44.154460Z"
    }
   },
   "cell_type": "code",
   "source": [
    "# Example of using the prediction function for a high-risk job\n",
    "job_title = 'Telemarketer'  # Job der er udsat for høj automatisering\n",
    "industry = 'Sales'  # Branche med høj AI-adoption\n",
    "company_size = 'Large'  # Større virksomheder har ofte større ressourcer til automatisering\n",
    "location = 'Remote'  # Remote arbejde kan også automatiseres lettere i visse tilfælde\n",
    "ai_adoption = 'High'  # Branche med høj AI-adoption\n",
    "skills = 'Basic Communication Skills'  # Lavere specialisering af færdigheder\n",
    "salary = 30000  # Lav løn, hvilket kan indikere lettere automatisering\n",
    "remote_friendly = 'Yes'\n",
    "growth_projection = 'Low Growth'  # Lav vækst indikerer høj risiko for automatisering\n",
    "\n",
    "# Forudsig automatiseringsrisikoen\n",
    "risk_prediction = predict_automation_risk(job_title, industry, company_size, location, ai_adoption, skills, salary, remote_friendly, growth_projection)\n",
    "print(f\"The predicted automation risk for the job is: {risk_prediction}\")\n"
   ],
   "id": "36c686fdb85eec3d",
   "outputs": [
    {
     "name": "stdout",
     "output_type": "stream",
     "text": [
      "The predicted automation risk for the job is: High\n"
     ]
    }
   ],
   "execution_count": 43
  },
  {
   "metadata": {
    "ExecuteTime": {
     "end_time": "2024-10-09T10:32:22.422080Z",
     "start_time": "2024-10-09T10:32:22.416624Z"
    }
   },
   "cell_type": "code",
   "source": [
    "# Check the class distribution in the target variable\n",
    "print(df['Automation_Risk'].value_counts())\n"
   ],
   "id": "1d12d902624e333b",
   "outputs": [
    {
     "name": "stdout",
     "output_type": "stream",
     "text": [
      "Automation_Risk\n",
      "Medium    171\n",
      "High      168\n",
      "Low       156\n",
      "Name: count, dtype: int64\n"
     ]
    }
   ],
   "execution_count": 47
  },
  {
   "metadata": {
    "ExecuteTime": {
     "end_time": "2024-10-09T10:32:15.283473Z",
     "start_time": "2024-10-09T10:32:15.076090Z"
    }
   },
   "cell_type": "code",
   "source": [
    "# Check feature importance\n",
    "importances = clf.feature_importances_\n",
    "feature_names = X.columns\n",
    "feature_importance_df = pd.DataFrame({'Feature': feature_names, 'Importance': importances})\n",
    "feature_importance_df.sort_values(by='Importance', ascending=False, inplace=True)\n",
    "\n",
    "# Plot the feature importance\n",
    "plt.figure(figsize=(10, 6))\n",
    "plt.barh(feature_importance_df['Feature'], feature_importance_df['Importance'])\n",
    "plt.title('Feature Importance')\n",
    "plt.xlabel('Importance')\n",
    "plt.ylabel('Feature')\n",
    "plt.gca().invert_yaxis()\n",
    "plt.show()\n",
    "\n",
    "print(feature_importance_df)"
   ],
   "id": "c3b010c507b21a79",
   "outputs": [
    {
     "data": {
      "text/plain": [
       "<Figure size 1000x600 with 1 Axes>"
      ],
      "image/png": "[encoded data removed]"
     },
     "metadata": {},
     "output_type": "display_data"
    },
    {
     "name": "stdout",
     "output_type": "stream",
     "text": [
      "                 Feature  Importance\n",
      "6             Salary_USD    0.277142\n",
      "0              Job_Title    0.165112\n",
      "1               Industry    0.136613\n",
      "5        Required_Skills    0.129400\n",
      "3               Location    0.121676\n",
      "2           Company_Size    0.058814\n",
      "4      AI_Adoption_Level    0.051257\n",
      "8  Job_Growth_Projection    0.043936\n",
      "7        Remote_Friendly    0.016050\n"
     ]
    }
   ],
   "execution_count": 46
  }
 ],
 "metadata": {
  "kernelspec": {
   "display_name": "Python 3",
   "language": "python",
   "name": "python3"
  },
  "language_info": {
   "codemirror_mode": {
    "name": "ipython",
    "version": 2
   },
   "file_extension": ".py",
   "mimetype": "text/x-python",
   "name": "python",
   "nbconvert_exporter": "python",
   "pygments_lexer": "ipython2",
   "version": "2.7.6"
  }
 },
 "nbformat": 4,
 "nbformat_minor": 5
}
