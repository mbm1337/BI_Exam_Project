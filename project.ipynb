{
 "cells": [
  {
   "cell_type": "code",
   "id": "initial_id",
   "metadata": {
    "collapsed": true,
    "ExecuteTime": {
     "end_time": "2024-10-02T08:00:31.083877Z",
     "start_time": "2024-10-02T08:00:31.074955Z"
    }
   },
   "source": [
    "import pandas as pd\n",
    "import numpy as np\n",
    "import seaborn as sns\n",
    "\n",
    "import matplotlib.pyplot as plt\n",
    "import matplotlib.mlab as mlab\n",
    "import matplotlib\n",
    "plt.style.use('ggplot')\n",
    "from matplotlib.pyplot import figure\n",
    "\n",
    "%matplotlib inline\n",
    "matplotlib.rcParams['figure.figsize'] = (12,8)\n",
    "\n",
    "pd.options.mode.chained_assignment = None"
   ],
   "outputs": [],
   "execution_count": 8
  },
  {
   "metadata": {
    "ExecuteTime": {
     "end_time": "2024-10-02T08:00:33.933761Z",
     "start_time": "2024-10-02T08:00:33.922459Z"
    }
   },
   "cell_type": "code",
   "source": [
    "\n",
    "df = pd.read_csv('data/ai_job_market_insights.csv')"
   ],
   "id": "116714f23397b79d",
   "outputs": [],
   "execution_count": 9
  },
  {
   "metadata": {
    "ExecuteTime": {
     "end_time": "2024-10-02T08:00:35.408716Z",
     "start_time": "2024-10-02T08:00:35.399455Z"
    }
   },
   "cell_type": "code",
   "source": "df.info()",
   "id": "e9c223f499d32ee1",
   "outputs": [
    {
     "name": "stdout",
     "output_type": "stream",
     "text": [
      "<class 'pandas.core.frame.DataFrame'>\n",
      "RangeIndex: 500 entries, 0 to 499\n",
      "Data columns (total 10 columns):\n",
      " #   Column                 Non-Null Count  Dtype  \n",
      "---  ------                 --------------  -----  \n",
      " 0   Job_Title              500 non-null    object \n",
      " 1   Industry               500 non-null    object \n",
      " 2   Company_Size           500 non-null    object \n",
      " 3   Location               500 non-null    object \n",
      " 4   AI_Adoption_Level      500 non-null    object \n",
      " 5   Automation_Risk        500 non-null    object \n",
      " 6   Required_Skills        500 non-null    object \n",
      " 7   Salary_USD             500 non-null    float64\n",
      " 8   Remote_Friendly        500 non-null    object \n",
      " 9   Job_Growth_Projection  500 non-null    object \n",
      "dtypes: float64(1), object(9)\n",
      "memory usage: 39.2+ KB\n"
     ]
    }
   ],
   "execution_count": 10
  },
  {
   "metadata": {
    "ExecuteTime": {
     "end_time": "2024-10-02T08:00:38.241935Z",
     "start_time": "2024-10-02T08:00:38.234348Z"
    }
   },
   "cell_type": "code",
   "source": "print( df.head())",
   "id": "861e181fb2ba68b6",
   "outputs": [
    {
     "name": "stdout",
     "output_type": "stream",
     "text": [
      "               Job_Title       Industry Company_Size   Location  \\\n",
      "0  Cybersecurity Analyst  Entertainment        Small      Dubai   \n",
      "1   Marketing Specialist     Technology        Large  Singapore   \n",
      "2          AI Researcher     Technology        Large  Singapore   \n",
      "3          Sales Manager         Retail        Small     Berlin   \n",
      "4  Cybersecurity Analyst  Entertainment        Small      Tokyo   \n",
      "\n",
      "  AI_Adoption_Level Automation_Risk     Required_Skills     Salary_USD  \\\n",
      "0            Medium            High        UX/UI Design  111392.165243   \n",
      "1            Medium            High           Marketing   93792.562466   \n",
      "2            Medium            High        UX/UI Design  107170.263069   \n",
      "3               Low            High  Project Management   93027.953758   \n",
      "4               Low             Low          JavaScript   87752.922171   \n",
      "\n",
      "  Remote_Friendly Job_Growth_Projection  \n",
      "0             Yes                Growth  \n",
      "1              No               Decline  \n",
      "2             Yes                Growth  \n",
      "3              No                Growth  \n",
      "4             Yes               Decline  \n"
     ]
    }
   ],
   "execution_count": 11
  },
  {
   "metadata": {
    "ExecuteTime": {
     "end_time": "2024-10-02T08:06:08.167895Z",
     "start_time": "2024-10-02T08:06:08.164384Z"
    }
   },
   "cell_type": "code",
   "source": "",
   "id": "c6679e0436d0f00f",
   "outputs": [],
   "execution_count": null
  },
  {
   "metadata": {
    "ExecuteTime": {
     "end_time": "2024-10-02T08:01:32.310858Z",
     "start_time": "2024-10-02T08:01:32.301897Z"
    }
   },
   "cell_type": "code",
   "source": [
    "#check for missing data\n",
    "for col in df.columns:\n",
    "    pct_missing = np.mean(df[col].isnull())\n",
    "    print('{} - {}%'.format(col, round(pct_missing*100)))\n",
    "\n"
   ],
   "id": "a265835d792fec4c",
   "outputs": [
    {
     "name": "stdout",
     "output_type": "stream",
     "text": [
      "Job_Title - 0%\n",
      "Industry - 0%\n",
      "Company_Size - 0%\n",
      "Location - 0%\n",
      "AI_Adoption_Level - 0%\n",
      "Automation_Risk - 0%\n",
      "Required_Skills - 0%\n",
      "Salary_USD - 0%\n",
      "Remote_Friendly - 0%\n",
      "Job_Growth_Projection - 0%\n"
     ]
    }
   ],
   "execution_count": 13
  },
  {
   "metadata": {},
   "cell_type": "code",
   "outputs": [],
   "execution_count": null,
   "source": "",
   "id": "fa36aa18e0bebde5"
  },
  {
   "metadata": {
    "ExecuteTime": {
     "end_time": "2024-10-02T08:02:25.807055Z",
     "start_time": "2024-10-02T08:02:25.801428Z"
    }
   },
   "cell_type": "code",
   "source": [
    "#We create a variable to store our column names in case they need to be reminded of\n",
    "\n",
    "column_names = df.columns.tolist()\n",
    "\n",
    "print(\"Column names:\", column_names)"
   ],
   "id": "30941dca31df4f88",
   "outputs": [
    {
     "name": "stdout",
     "output_type": "stream",
     "text": [
      "Column names: ['Job_Title', 'Industry', 'Company_Size', 'Location', 'AI_Adoption_Level', 'Automation_Risk', 'Required_Skills', 'Salary_USD', 'Remote_Friendly', 'Job_Growth_Projection']\n"
     ]
    }
   ],
   "execution_count": 14
  },
  {
   "metadata": {
    "ExecuteTime": {
     "end_time": "2024-10-02T08:02:51.509709Z",
     "start_time": "2024-10-02T08:02:51.484035Z"
    }
   },
   "cell_type": "code",
   "source": [
    "#Drop duplicates\n",
    "\n",
    "df.drop_duplicates()"
   ],
   "id": "e604d804133aa8de",
   "outputs": [
    {
     "data": {
      "text/plain": [
       "                 Job_Title            Industry Company_Size   Location  \\\n",
       "0    Cybersecurity Analyst       Entertainment        Small      Dubai   \n",
       "1     Marketing Specialist          Technology        Large  Singapore   \n",
       "2            AI Researcher          Technology        Large  Singapore   \n",
       "3            Sales Manager              Retail        Small     Berlin   \n",
       "4    Cybersecurity Analyst       Entertainment        Small      Tokyo   \n",
       "..                     ...                 ...          ...        ...   \n",
       "495         Data Scientist  Telecommunications       Medium     Berlin   \n",
       "496  Cybersecurity Analyst  Telecommunications        Small     London   \n",
       "497  Cybersecurity Analyst              Energy        Large      Dubai   \n",
       "498     Operations Manager          Healthcare        Large      Paris   \n",
       "499             HR Manager       Entertainment       Medium     Berlin   \n",
       "\n",
       "    AI_Adoption_Level Automation_Risk     Required_Skills     Salary_USD  \\\n",
       "0              Medium            High        UX/UI Design  111392.165243   \n",
       "1              Medium            High           Marketing   93792.562466   \n",
       "2              Medium            High        UX/UI Design  107170.263069   \n",
       "3                 Low            High  Project Management   93027.953758   \n",
       "4                 Low             Low          JavaScript   87752.922171   \n",
       "..                ...             ...                 ...            ...   \n",
       "495               Low          Medium    Machine Learning  105821.394046   \n",
       "496               Low            High        UX/UI Design  119794.992146   \n",
       "497              High             Low        UX/UI Design   79644.933099   \n",
       "498              High             Low              Python   77642.150625   \n",
       "499            Medium            High  Project Management   68764.378921   \n",
       "\n",
       "    Remote_Friendly Job_Growth_Projection  \n",
       "0               Yes                Growth  \n",
       "1                No               Decline  \n",
       "2               Yes                Growth  \n",
       "3                No                Growth  \n",
       "4               Yes               Decline  \n",
       "..              ...                   ...  \n",
       "495             Yes                Stable  \n",
       "496              No               Decline  \n",
       "497             Yes                Stable  \n",
       "498             Yes                Stable  \n",
       "499             Yes               Decline  \n",
       "\n",
       "[500 rows x 10 columns]"
      ],
      "text/html": [
       "<div>\n",
       "<style scoped>\n",
       "    .dataframe tbody tr th:only-of-type {\n",
       "        vertical-align: middle;\n",
       "    }\n",
       "\n",
       "    .dataframe tbody tr th {\n",
       "        vertical-align: top;\n",
       "    }\n",
       "\n",
       "    .dataframe thead th {\n",
       "        text-align: right;\n",
       "    }\n",
       "</style>\n",
       "<table border=\"1\" class=\"dataframe\">\n",
       "  <thead>\n",
       "    <tr style=\"text-align: right;\">\n",
       "      <th></th>\n",
       "      <th>Job_Title</th>\n",
       "      <th>Industry</th>\n",
       "      <th>Company_Size</th>\n",
       "      <th>Location</th>\n",
       "      <th>AI_Adoption_Level</th>\n",
       "      <th>Automation_Risk</th>\n",
       "      <th>Required_Skills</th>\n",
       "      <th>Salary_USD</th>\n",
       "      <th>Remote_Friendly</th>\n",
       "      <th>Job_Growth_Projection</th>\n",
       "    </tr>\n",
       "  </thead>\n",
       "  <tbody>\n",
       "    <tr>\n",
       "      <th>0</th>\n",
       "      <td>Cybersecurity Analyst</td>\n",
       "      <td>Entertainment</td>\n",
       "      <td>Small</td>\n",
       "      <td>Dubai</td>\n",
       "      <td>Medium</td>\n",
       "      <td>High</td>\n",
       "      <td>UX/UI Design</td>\n",
       "      <td>111392.165243</td>\n",
       "      <td>Yes</td>\n",
       "      <td>Growth</td>\n",
       "    </tr>\n",
       "    <tr>\n",
       "      <th>1</th>\n",
       "      <td>Marketing Specialist</td>\n",
       "      <td>Technology</td>\n",
       "      <td>Large</td>\n",
       "      <td>Singapore</td>\n",
       "      <td>Medium</td>\n",
       "      <td>High</td>\n",
       "      <td>Marketing</td>\n",
       "      <td>93792.562466</td>\n",
       "      <td>No</td>\n",
       "      <td>Decline</td>\n",
       "    </tr>\n",
       "    <tr>\n",
       "      <th>2</th>\n",
       "      <td>AI Researcher</td>\n",
       "      <td>Technology</td>\n",
       "      <td>Large</td>\n",
       "      <td>Singapore</td>\n",
       "      <td>Medium</td>\n",
       "      <td>High</td>\n",
       "      <td>UX/UI Design</td>\n",
       "      <td>107170.263069</td>\n",
       "      <td>Yes</td>\n",
       "      <td>Growth</td>\n",
       "    </tr>\n",
       "    <tr>\n",
       "      <th>3</th>\n",
       "      <td>Sales Manager</td>\n",
       "      <td>Retail</td>\n",
       "      <td>Small</td>\n",
       "      <td>Berlin</td>\n",
       "      <td>Low</td>\n",
       "      <td>High</td>\n",
       "      <td>Project Management</td>\n",
       "      <td>93027.953758</td>\n",
       "      <td>No</td>\n",
       "      <td>Growth</td>\n",
       "    </tr>\n",
       "    <tr>\n",
       "      <th>4</th>\n",
       "      <td>Cybersecurity Analyst</td>\n",
       "      <td>Entertainment</td>\n",
       "      <td>Small</td>\n",
       "      <td>Tokyo</td>\n",
       "      <td>Low</td>\n",
       "      <td>Low</td>\n",
       "      <td>JavaScript</td>\n",
       "      <td>87752.922171</td>\n",
       "      <td>Yes</td>\n",
       "      <td>Decline</td>\n",
       "    </tr>\n",
       "    <tr>\n",
       "      <th>...</th>\n",
       "      <td>...</td>\n",
       "      <td>...</td>\n",
       "      <td>...</td>\n",
       "      <td>...</td>\n",
       "      <td>...</td>\n",
       "      <td>...</td>\n",
       "      <td>...</td>\n",
       "      <td>...</td>\n",
       "      <td>...</td>\n",
       "      <td>...</td>\n",
       "    </tr>\n",
       "    <tr>\n",
       "      <th>495</th>\n",
       "      <td>Data Scientist</td>\n",
       "      <td>Telecommunications</td>\n",
       "      <td>Medium</td>\n",
       "      <td>Berlin</td>\n",
       "      <td>Low</td>\n",
       "      <td>Medium</td>\n",
       "      <td>Machine Learning</td>\n",
       "      <td>105821.394046</td>\n",
       "      <td>Yes</td>\n",
       "      <td>Stable</td>\n",
       "    </tr>\n",
       "    <tr>\n",
       "      <th>496</th>\n",
       "      <td>Cybersecurity Analyst</td>\n",
       "      <td>Telecommunications</td>\n",
       "      <td>Small</td>\n",
       "      <td>London</td>\n",
       "      <td>Low</td>\n",
       "      <td>High</td>\n",
       "      <td>UX/UI Design</td>\n",
       "      <td>119794.992146</td>\n",
       "      <td>No</td>\n",
       "      <td>Decline</td>\n",
       "    </tr>\n",
       "    <tr>\n",
       "      <th>497</th>\n",
       "      <td>Cybersecurity Analyst</td>\n",
       "      <td>Energy</td>\n",
       "      <td>Large</td>\n",
       "      <td>Dubai</td>\n",
       "      <td>High</td>\n",
       "      <td>Low</td>\n",
       "      <td>UX/UI Design</td>\n",
       "      <td>79644.933099</td>\n",
       "      <td>Yes</td>\n",
       "      <td>Stable</td>\n",
       "    </tr>\n",
       "    <tr>\n",
       "      <th>498</th>\n",
       "      <td>Operations Manager</td>\n",
       "      <td>Healthcare</td>\n",
       "      <td>Large</td>\n",
       "      <td>Paris</td>\n",
       "      <td>High</td>\n",
       "      <td>Low</td>\n",
       "      <td>Python</td>\n",
       "      <td>77642.150625</td>\n",
       "      <td>Yes</td>\n",
       "      <td>Stable</td>\n",
       "    </tr>\n",
       "    <tr>\n",
       "      <th>499</th>\n",
       "      <td>HR Manager</td>\n",
       "      <td>Entertainment</td>\n",
       "      <td>Medium</td>\n",
       "      <td>Berlin</td>\n",
       "      <td>Medium</td>\n",
       "      <td>High</td>\n",
       "      <td>Project Management</td>\n",
       "      <td>68764.378921</td>\n",
       "      <td>Yes</td>\n",
       "      <td>Decline</td>\n",
       "    </tr>\n",
       "  </tbody>\n",
       "</table>\n",
       "<p>500 rows × 10 columns</p>\n",
       "</div>"
      ]
     },
     "execution_count": 15,
     "metadata": {},
     "output_type": "execute_result"
    }
   ],
   "execution_count": 15
  },
  {
   "metadata": {
    "ExecuteTime": {
     "end_time": "2024-10-02T08:19:58.625084Z",
     "start_time": "2024-10-02T08:19:58.447705Z"
    }
   },
   "cell_type": "code",
   "source": [
    "# Changing the data type in the AI Impact column to Integer while removing the % sign as well\n",
    "if 'Automation_Risk' in df.columns:\n",
    "    # Remove the % sign and convert to numeric, coercing errors to NaN\n",
    "    df['Automation_Risk'] = pd.to_numeric(df['Automation_Risk'].str.rstrip('%'), errors='coerce') / 100\n",
    "    \n",
    "    # Drop rows with NaN values in the Automation_Risk column\n",
    "    df = df.dropna(subset=['Automation_Risk'])\n",
    "    \n",
    "    top_10_impacted_jobs = df.sort_values(by='Automation_Risk', ascending=False).head(10)\n",
    "\n",
    "    # Plotting the top 10 impacted jobs\n",
    "    plt.figure(figsize=(15, 8))\n",
    "    sns.barplot(x='Automation_Risk', y='Job_Title', data=top_10_impacted_jobs, palette='cividis')\n",
    "    plt.title('Top 10 Job Titles Most Impacted by AI', fontsize=15)\n",
    "    plt.xlabel('Automation_Risk (%)', fontsize=12)\n",
    "    plt.ylabel('Job_Title', fontsize=12)\n",
    "    plt.show()\n",
    "else:\n",
    "    print(\"Column 'Automation_Risk' does not exist in the dataframe.\")"
   ],
   "id": "349d6e5c31240f2f",
   "outputs": [
    {
     "data": {
      "text/plain": [
       "<Figure size 1500x800 with 1 Axes>"
      ],
      "image/png": "[encoded data removed]"
     },
     "metadata": {},
     "output_type": "display_data"
    }
   ],
   "execution_count": 23
  },
  {
   "metadata": {
    "ExecuteTime": {
     "end_time": "2024-10-02T08:05:41.117269Z",
     "start_time": "2024-10-02T08:05:41.114340Z"
    }
   },
   "cell_type": "code",
   "source": "\n",
   "id": "3b51ad41401470b3",
   "outputs": [],
   "execution_count": 17
  }
 ],
 "metadata": {
  "kernelspec": {
   "display_name": "Python 3",
   "language": "python",
   "name": "python3"
  },
  "language_info": {
   "codemirror_mode": {
    "name": "ipython",
    "version": 2
   },
   "file_extension": ".py",
   "mimetype": "text/x-python",
   "name": "python",
   "nbconvert_exporter": "python",
   "pygments_lexer": "ipython2",
   "version": "2.7.6"
  }
 },
 "nbformat": 4,
 "nbformat_minor": 5
}
